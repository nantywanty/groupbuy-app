{
 "cells": [
  {
   "cell_type": "code",
   "execution_count": 1,
   "metadata": {},
   "outputs": [],
   "source": [
    "# import requests\n",
    "# import json\n",
    "# import base64\n",
    "\n",
    "from sqlalchemy import create_engine, inspect\n",
    "from sqlalchemy.orm import Session\n",
    "from sqlalchemy.sql import text\n",
    "from datetime import date, timedelta\n"
   ]
  },
  {
   "cell_type": "code",
   "execution_count": 2,
   "metadata": {},
   "outputs": [],
   "source": [
    "# zip -r ../gb_lambda_close.zip .\n",
    "# zip -r gb_lambda_close.zip lambda_function.py"
   ]
  },
  {
   "cell_type": "code",
   "execution_count": 2,
   "metadata": {},
   "outputs": [],
   "source": [
    "user = 'postgres'\n",
    "password = 'password'\n",
    "endpoint = 'gb-prod-db-instance.cmlcbdndvrou.us-east-1.rds.amazonaws.com'\n",
    "dbname = 'gb_database'\n",
    "\n",
    "engine = create_engine('postgresql+psycopg2://{0}:{1}@{2}/{3}'\n",
    "                                               .format(user, password, endpoint, dbname))\n",
    "session = Session(engine)\n",
    "\n",
    "# session.execute(text(f\"UPDATE core_listing SET listing_status = 'open' WHERE listing_end_date = '{str(date.today() - timedelta(days=1))}'\"))\n",
    "# session.commit()\n",
    "# session.close()\n",
    "# engine.dispose()\n"
   ]
  },
  {
   "cell_type": "code",
   "execution_count": 32,
   "metadata": {},
   "outputs": [],
   "source": [
    "session = Session(engine)\n",
    "\n",
    "# session.execute(text(f\"UPDATE core_listing SET listing_status = 'close' WHERE listing_end_date = '{str(date.today() - timedelta(days=1))}'\"))\n",
    "# session.commit()\n",
    "# session.close()\n",
    "# engine.dispose()"
   ]
  },
  {
   "cell_type": "code",
   "execution_count": 3,
   "metadata": {},
   "outputs": [
    {
     "name": "stdout",
     "output_type": "stream",
     "text": [
      "(1, 'ywhdarius@gmail.com', 'bto listing', 'https://gb-storage-bucket-prod.s3.amazonaws.com/d8e0f286-241b-4249-8ef0-4b5d1a3c065d.jpg', 'https://d1e1rguvi10ykv.cloudfront.net/d8e0f286-241b-4249-8ef0-4b5d1a3c065d.jpg', 'bto listing desc', 998.69, 555, 555, datetime.date(2023, 5, 2), datetime.date(2023, 5, 31), 'open', datetime.datetime(2023, 4, 12, 15, 41, 58, 985067, tzinfo=datetime.timezone.utc), datetime.datetime(2023, 4, 12, 15, 41, 58, 985088, tzinfo=datetime.timezone.utc))\n",
      "(2, 'ywhdarius@gmail.com', 'ice cream listing', 'https://gb-storage-bucket-prod.s3.amazonaws.com/3cc961b7-9dcb-4921-9ebc-82735347b4a1.jpg', 'https://d1e1rguvi10ykv.cloudfront.net/3cc961b7-9dcb-4921-9ebc-82735347b4a1.jpg', 'ice cream listing desc', 8.88, 700, 662, datetime.date(2023, 4, 11), datetime.date(2023, 5, 31), 'closed', datetime.datetime(2023, 4, 12, 15, 57, 58, 744552, tzinfo=datetime.timezone.utc), datetime.datetime(2023, 4, 12, 15, 58, 43, 535072, tzinfo=datetime.timezone.utc))\n",
      "(3, 'ywhdarius@gmail.com', 'ice cream listing autoclose', 'https://gb-storage-bucket-prod.s3.amazonaws.com/727715d2-281b-4522-8f2c-dc5cdf103e50.jpg', 'https://d1e1rguvi10ykv.cloudfront.net/727715d2-281b-4522-8f2c-dc5cdf103e50.jpg', 'ice cream listing desc autoclose', 8.88, 700, 692, datetime.date(2023, 4, 11), datetime.date(2023, 5, 31), 'closed', datetime.datetime(2023, 4, 12, 16, 36, 58, 96402, tzinfo=datetime.timezone.utc), datetime.datetime(2023, 4, 12, 16, 38, 45, 530099, tzinfo=datetime.timezone.utc))\n"
     ]
    }
   ],
   "source": [
    "# result = session.execute(text(f\"SELECT * FROM core_listing WHERE listing_end_date = '{str(date.today() - timedelta(days=1))}'\"))\n",
    "result = session.execute(text(f\"SELECT * FROM core_listing\"))\n",
    "session.close()\n",
    "for row in result:\n",
    "    print(row)"
   ]
  },
  {
   "cell_type": "code",
   "execution_count": 12,
   "metadata": {},
   "outputs": [
    {
     "name": "stdout",
     "output_type": "stream",
     "text": [
      "listing_id\n",
      "listing_owner\n",
      "listing_name\n",
      "listing_image_url\n",
      "listing_description\n",
      "listing_unit_price\n",
      "listing_max_quantity\n",
      "listing_remaining_quantity\n",
      "listing_end_date\n",
      "listing_delivery_date\n",
      "listing_status\n",
      "listing_created_at\n",
      "listing_updated_at\n"
     ]
    }
   ],
   "source": [
    "for col in result.keys():\n",
    "    print(col)"
   ]
  },
  {
   "cell_type": "code",
   "execution_count": 82,
   "metadata": {},
   "outputs": [],
   "source": [
    "# session.execute(text(f\"UPDATE core_listing SET listing_status = 'open' WHERE listing_end_date = '{str(date.today() - timedelta(days=1))}'\"))\n",
    "# session.commit()"
   ]
  },
  {
   "cell_type": "code",
   "execution_count": 13,
   "metadata": {},
   "outputs": [
    {
     "name": "stdout",
     "output_type": "stream",
     "text": [
      "(1, 'ywhdarius@gmail.com', 2, 38, 8.88, 337.44, '81234567', '3rd listing close address', '654321', 'closed', datetime.datetime(2023, 4, 12, 15, 58, 43, 530873, tzinfo=datetime.timezone.utc), datetime.datetime(2023, 4, 12, 15, 58, 43, 530891, tzinfo=datetime.timezone.utc))\n",
      "(2, 'ywhdarius@gmail.com', 3, 8, 8.88, 71.04, '81234567', 'listing autoclose address', '654321', 'closed', datetime.datetime(2023, 4, 12, 16, 38, 45, 529125, tzinfo=datetime.timezone.utc), datetime.datetime(2023, 4, 12, 16, 38, 45, 529143, tzinfo=datetime.timezone.utc))\n"
     ]
    }
   ],
   "source": [
    "# result = session.execute(text(f\"SELECT * FROM core_listing WHERE listing_end_date = '{str(date.today() - timedelta(days=1))}'\"))\n",
    "result = session.execute(text(f\"SELECT * FROM core_order\"))\n",
    "session.close()\n",
    "for row in result:\n",
    "    print(row)"
   ]
  },
  {
   "cell_type": "code",
   "execution_count": null,
   "metadata": {},
   "outputs": [],
   "source": [
    "f\"UPDATE core_order SET order_status = 'closed' WHERE order_listing_id IN (SELECT listing_id FROM core_listing WHERE listing_end_date = '{str(date.today() - timedelta(days=1))}') AND order_status = 'placed'\""
   ]
  },
  {
   "cell_type": "code",
   "execution_count": 9,
   "metadata": {},
   "outputs": [
    {
     "name": "stdout",
     "output_type": "stream",
     "text": [
      "(2, 'ywhdarius@gmail.com', 6, 60, 12.5, 750.0, '91234567', 'nowhere', '648294', 'placed', datetime.datetime(2023, 4, 1, 9, 13, 1, 338115, tzinfo=datetime.timezone.utc), datetime.datetime(2023, 4, 1, 9, 13, 1, 338145, tzinfo=datetime.timezone.utc))\n"
     ]
    }
   ],
   "source": [
    "result = session.execute(text(f\"SELECT * FROM core_order WHERE order_listing_id IN (SELECT listing_id FROM core_listing WHERE listing_end_date = '{str(date.today() - timedelta(days=1))}') AND order_status = 'placed'\"))\n",
    "session.close()\n",
    "for row in result:\n",
    "    print(row)"
   ]
  },
  {
   "cell_type": "code",
   "execution_count": 10,
   "metadata": {},
   "outputs": [
    {
     "name": "stdout",
     "output_type": "stream",
     "text": [
      "order_id\n",
      "order_owner\n",
      "order_listing_id\n",
      "order_quantity\n",
      "order_unit_price\n",
      "order_total_amount\n",
      "order_contact_details\n",
      "order_address\n",
      "order_postal_code\n",
      "order_status\n",
      "order_created_at\n",
      "order_updated_at\n"
     ]
    }
   ],
   "source": [
    "for cols in result.keys():\n",
    "    print(cols)"
   ]
  }
 ],
 "metadata": {
  "kernelspec": {
   "display_name": "gb_lambda_close",
   "language": "python",
   "name": "python3"
  },
  "language_info": {
   "codemirror_mode": {
    "name": "ipython",
    "version": 3
   },
   "file_extension": ".py",
   "mimetype": "text/x-python",
   "name": "python",
   "nbconvert_exporter": "python",
   "pygments_lexer": "ipython3",
   "version": "3.9.16"
  },
  "orig_nbformat": 4,
  "vscode": {
   "interpreter": {
    "hash": "cad6ea453f2fa84be65690e4a017d1e4bb7375e3725f05fe95b1f45b7f4c7c9a"
   }
  }
 },
 "nbformat": 4,
 "nbformat_minor": 2
}
